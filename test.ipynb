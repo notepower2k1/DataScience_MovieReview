{
 "cells": [
  {
   "cell_type": "code",
   "execution_count": 9,
   "metadata": {},
   "outputs": [],
   "source": [
    "import pickle\n",
    "import os\n",
    "\n",
    "file = 'finalized_model.pkl'\n",
    "vect, model = pickle.load(open(file,'rb'))\n",
    "\n",
    "\n"
   ]
  },
  {
   "cell_type": "code",
   "execution_count": 4,
   "metadata": {},
   "outputs": [],
   "source": [
    "import re\n",
    "def clean(text):\n",
    "    cleaned = re.compile(r'<.*?>')\n",
    "    return re.sub(cleaned,'',text)"
   ]
  },
  {
   "cell_type": "code",
   "execution_count": 5,
   "metadata": {},
   "outputs": [],
   "source": [
    "def is_special(text):\n",
    "    rem = ''\n",
    "    for i in text:\n",
    "        if i.isalnum():\n",
    "            rem = rem + i\n",
    "        else:\n",
    "            rem = rem + ' '\n",
    "    return rem"
   ]
  },
  {
   "cell_type": "code",
   "execution_count": 6,
   "metadata": {},
   "outputs": [],
   "source": [
    "def to_lower(text):\n",
    "    return text.lower()"
   ]
  },
  {
   "cell_type": "code",
   "execution_count": 2,
   "metadata": {},
   "outputs": [
    {
     "data": {
      "text/plain": [
       "\" test = df['review'][0]\\n \""
      ]
     },
     "execution_count": 2,
     "metadata": {},
     "output_type": "execute_result"
    }
   ],
   "source": [
    "import pandas as pd\n",
    "import re\n",
    "df = pd.read_csv('./IMDB Dataset.csv')\n",
    "\n",
    "\n",
    "test = df['review'][20:25]\n",
    "\n",
    "\"\"\" test = df['review'][0]\n",
    " \"\"\"\n"
   ]
  },
  {
   "cell_type": "code",
   "execution_count": 65,
   "metadata": {},
   "outputs": [
    {
     "name": "stdout",
     "output_type": "stream",
     "text": [
      "bad movie i every seen on my life\n"
     ]
    }
   ],
   "source": [
    "str=\"bad movie i every seen on my life\"\n",
    "print(str)"
   ]
  },
  {
   "cell_type": "code",
   "execution_count": 67,
   "metadata": {},
   "outputs": [
    {
     "name": "stdout",
     "output_type": "stream",
     "text": [
      "['bad movie i every seen on my life']\n"
     ]
    }
   ],
   "source": [
    "f1 = clean(str)\n",
    "f2 = is_special(f1)\n",
    "f3 = to_lower(f2)\n",
    "\n",
    "\n",
    "array = []\n",
    "\n",
    "array.append(f3)\n",
    "\n",
    "print(array)\n",
    "\n"
   ]
  },
  {
   "cell_type": "code",
   "execution_count": 7,
   "metadata": {},
   "outputs": [],
   "source": [
    "test = [clean(doc) for doc in test]\n",
    "test = [is_special(doc) for doc in test]\n",
    "test = [to_lower(doc) for doc in test]"
   ]
  },
  {
   "cell_type": "code",
   "execution_count": 10,
   "metadata": {},
   "outputs": [
    {
     "name": "stdout",
     "output_type": "stream",
     "text": [
      "after the success of die hard and it s sequels it s no surprise really that in the 1990s  a glut of  die hard on a        movies cashed in on the wrong guy  wrong place  wrong time concept  that is what they did with cliffhanger  die hard on a mountain just in time to rescue sly  stop or my mom will shoot  stallone s career cliffhanger is one big nit pickers dream  especially to those who are expert at mountain climbing  base jumping  aviation  facial expressions  acting skills  all in all it s full of excuses to dismiss the film as one overblown pile of junk  stallone even managed to get out acted by a horse  however  if you an forget all the nonsense  it s actually a very lovable and undeniably entertaining romp that delivers as plenty of thrills  and unintentionally  plenty of laughs you ve got to love john lithgows sneery evilness  his tick every box band of baddies  and best of all  the permanently harassed and hapless  turncoat  agent  rex linn as travers he may of been henry in  portrait of a serial killer  but michael rooker is noteworthy for a cringe worthy performance as hal  he insists on constantly shrieking in painful disbelief at his captors  that man never hurt anybody  and whilst he surely can t be  it really does look like ralph waite s frank character is grinning as the girl plummets to her death mention too must go to former  london s burning  actor craig fairbrass as the brit bad guy  who comes a cropper whilst using hal as a human football  yes  you can t help enjoy that bit  hal needed a good kicking so forget your better judgement  who cares if  that could never happen   lower your acting expectations  turn up the volume and enjoy  and if you re looking for qaulen  he s the one wearing the helicopter \n",
      "Predicted Label: positive\n",
      "Ground Label:  positive\n",
      "i had the terrible misfortune of having to view this  b movie  in it s entirety all i have to say is    save your time and money    this has got to be the worst b movie of all time  it shouldn t even be called a b movie  more like an f movie  because it fails in all aspects that make a good movie  the story is not interesting at all  all of the actors are paper thin and not at all believable  it has bad direction and the action sequences are so fake it s almost funny       almost the movie is just packed full of crappy one liners that no respectable person could find amusing in the least little bit this movie is supposed to be geared towards men  but all the women in it are so utterly unattractive  especially that old wrinkled thing that comes in towards the end  they try to appear sexy in those weird  horrible costumes and they fail miserably   even some of the most ridiculous b movies will still give you some laughs  but this is just too painful to watch  \n",
      "Predicted Label: negative\n",
      "Ground Label:  negative\n",
      "what an absolutely stunning movie  if you have 2 5 hrs to kill  watch it  you won t regret it  it s too much fun  rajnikanth carries the movie on his shoulders and although there isn t anything more other than him  i still liked it  the music by a r rehman takes time to grow on you but after you heard it a few times  you really start liking it \n",
      "Predicted Label: positive\n",
      "Ground Label:  positive\n",
      "first of all  let s get a few things straight here  a  i am an anime fan  always has been as a matter of fact  i used to watch speed racer all the time in preschool   b  i do like several b movies because they re hilarious  c  i like the godzilla movies  a lot moving on  when the movie first comes on  it seems like it s going to be your usual b movie  down to the crappy fx  but all a sudden  boom  the anime comes on  this is when the movie goes wwwaaaaayyyyy downhill the animation is very bad   cheap  even worse than what i remember from speed racer  for crissakes  in fact  it s so cheap  one of the few scenes from the movie i  vividly  remember is when a bunch of kids run out of a school      it s the same kids over   over again  the fx are terrible  too  the dinosaurs look worse than godzilla  in addition  the transition to live action to animation is unorganized  the dialogue   voices especially the english dub that i viewed  was horrid   i was begging my dad to take the tape out of the dvd  vhs player  the only thing that kept me surviving was cracking out jokes   comments like the robots   joel mike on mst3k  you pick the season   honestly  this is the only way to barely enjoy this movie   survive it at the same time heck  i m planning to show this to another fellow otaku pal of mine on halloween for a b movie night  because it s stupid  pretty painful to watch   unintentionally hilarious at the same time  i m giving this movie a 3 10  an improvement from the 0 5 10 i was originally going to give it  according to my grading scale  3 10 means pretty much both boring   bad  as fun as counting to three unless you find a way to make fun of it  then it will become as fun as counting to 15  \n",
      "Predicted Label: negative\n",
      "Ground Label:  negative\n",
      "this was the worst movie i saw at worldfest and it also received the least amount of applause afterwards  i can only think it is receiving such recognition based on the amount of known actors in the film  it s great to see j beals but she s only in the movie for a few minutes  m parker is a much better actress than the part allowed for  the rest of the acting is hard to judge because the movie is so ridiculous and predictable  the main character is totally unsympathetic and therefore a bore to watch  there is no real emotional depth to the story  a movie revolving about an actor who can t get work doesn t feel very original to me  nor does the development of the cop  it feels like one of many straight to video movies i saw back in the 90s     and not even a good one in those standards \n",
      "Predicted Label: negative\n",
      "Ground Label:  negative\n"
     ]
    }
   ],
   "source": [
    "check = ['negative','positive']\n",
    "\n",
    "\n",
    "user_test = vect.transform(test)\n",
    "y_pred_user = model.predict(user_test)\n",
    "true_label = df['sentiment'][20:25]\n",
    "\n",
    "\n",
    "for i in range(0,5):\n",
    "    print(test[i])\n",
    "    print(\"Predicted Label:\",check[y_pred_user[i]])\n",
    "    print(\"Ground Label: \",true_label[20+i])\n"
   ]
  }
 ],
 "metadata": {
  "kernelspec": {
   "display_name": "Python 3",
   "language": "python",
   "name": "python3"
  },
  "language_info": {
   "codemirror_mode": {
    "name": "ipython",
    "version": 3
   },
   "file_extension": ".py",
   "mimetype": "text/x-python",
   "name": "python",
   "nbconvert_exporter": "python",
   "pygments_lexer": "ipython3",
   "version": "3.10.2 (tags/v3.10.2:a58ebcc, Jan 17 2022, 14:12:15) [MSC v.1929 64 bit (AMD64)]"
  },
  "orig_nbformat": 4,
  "vscode": {
   "interpreter": {
    "hash": "97b4c6d193500169a146492ad8b12b4ad647512ce8e80ec3905710ee6f77367e"
   }
  }
 },
 "nbformat": 4,
 "nbformat_minor": 2
}
