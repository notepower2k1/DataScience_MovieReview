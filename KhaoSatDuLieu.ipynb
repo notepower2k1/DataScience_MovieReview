{
 "cells": [
  {
   "cell_type": "markdown",
   "metadata": {},
   "source": [
    "# Mô tả bài toán Phân tích cảm nhận của người xem phim (Sentiment Analysis of Movie Reviews)\n",
    "## Mục đích của bài toán:\n",
    "#### Với mỗi bình luận của người xem model phải xác định được bình luận đó là tiêu cực hay tích cực.\n",
    "\n",
    "#### Ta sẽ sử dụng bộ dữ liệu đánh giá phim từ trang web IMDb (Cơ sở dữ liệu phim trên Internet) do nhà nghiên cứu Andrew Maas của Stanford thu thập.Tập dữ liệu này chứa nội dung của các bài đánh giá, cùng với nhãn cho biết một bài đánh giá là “tích cực” hay “tiêu cực”. Bản thân trang web IMDb chứa xếp hạng từ 1 đến 10. Để đơn giản hóa mô hình, chú thích này được tóm tắt dưới dạng tập dữ liệu phân loại hai lớp trong đó các bài đánh giá có điểm từ 6 trở lên được gắn nhãn là tích cực và phần còn lại là tiêu cực. \n",
    "\n",
    "## Hướng tiếp cận:\n",
    "#### Nhiệm vụ muốn giải quyết như sau: đưa ra một đánh giá, chúng tôi muốn gán nhãn “tích cực” hoặc “tiêu cực” dựa trên nội dung văn bản của đánh giá. Đây là một nhiệm vụ phân loại nhị phân tiêu chuẩn. \n",
    "#### Tuy nhiên, dữ liệu văn bản không ở định dạng mà mô hình máy học có thể xử lý. Chúng ta cần chuyển đổi biểu diễn chuỗi của văn bản thành biểu diễn số mà chúng ta có thể áp dụng các thuật toán học máy của mình."
   ]
  },
  {
   "cell_type": "markdown",
   "metadata": {},
   "source": [
    "# Khảo sát dữ liệu\n",
    "### Cấu trúc dataset file http://ai.stanford.edu/~amaas/data/sentiment/\n",
    "#### Gồm 2 thư mục :\n",
    "#### + Pos folder chứa toàn bộ bình luận tích cực\n",
    "#### + Neg folder chứa toàn bộ bình luận tiêu cực\n",
    "#### Mỗi folder là các file .txt riêng rả chứa bình luận"
   ]
  },
  {
   "cell_type": "code",
   "execution_count": 30,
   "metadata": {},
   "outputs": [
    {
     "name": "stdout",
     "output_type": "stream",
     "text": [
      "aclImdb/\n",
      "├─imdb.vocab\n",
      "├─imdbEr.txt\n",
      "├─README\n",
      "├─test/\n",
      "│ ├─neg/\n",
      "│ └─pos/\n",
      "└─train/\n",
      "  ├─neg/\n",
      "  └─pos/\n"
     ]
    }
   ],
   "source": [
    "import seedir as sd\n",
    "sd.seedir('./aclImdb_v2/aclImdb/',depthlimit=2)"
   ]
  },
  {
   "cell_type": "code",
   "execution_count": 31,
   "metadata": {},
   "outputs": [
    {
     "name": "stdout",
     "output_type": "stream",
     "text": [
      "aclImdb_v2/aclImdb/train/pos\\0_9.txt\n",
      "aclImdb_v2/aclImdb/train/pos\\10000_8.txt\n",
      "aclImdb_v2/aclImdb/train/pos\\10001_10.txt\n",
      "aclImdb_v2/aclImdb/train/pos\\10002_7.txt\n",
      "aclImdb_v2/aclImdb/train/pos\\10003_8.txt\n"
     ]
    }
   ],
   "source": [
    "import glob\n",
    "count = 0\n",
    "for i in glob.glob('aclImdb_v2/aclImdb/train/pos/*.txt'):\n",
    "    if count  < 5:\n",
    "        count += 1\n",
    "        print(i)"
   ]
  },
  {
   "cell_type": "markdown",
   "metadata": {},
   "source": [
    "### Có một hàm trợ giúp trong scikit-learning để tải các tệp được lưu trữ trong cấu trúc thư mục như vậy, trong đó mỗi thư mục con tương ứng với một nhãn (label) được gọi là load_files. \n",
    "### Trước tiên, Áp dụng hàm load_files cho train data"
   ]
  },
  {
   "cell_type": "code",
   "execution_count": 33,
   "metadata": {},
   "outputs": [],
   "source": [
    "from sklearn.datasets import load_files\n",
    "import numpy as np\n",
    "\n",
    "reviews_train = load_files(\"aclImdb_v2/aclImdb/train/\")"
   ]
  },
  {
   "cell_type": "markdown",
   "metadata": {},
   "source": [
    "### 2 nhãn neg và pos tương ứng với 2 sub folder trong thư mục train"
   ]
  },
  {
   "cell_type": "code",
   "execution_count": null,
   "metadata": {},
   "outputs": [
    {
     "data": {
      "text/plain": [
       "['neg', 'pos']"
      ]
     },
     "execution_count": 18,
     "metadata": {},
     "output_type": "execute_result"
    }
   ],
   "source": [
    "reviews_train.target_names"
   ]
  },
  {
   "cell_type": "code",
   "execution_count": 84,
   "metadata": {},
   "outputs": [
    {
     "data": {
      "image/png": "[encoded data removed]",
      "text/plain": [
       "<Figure size 720x576 with 1 Axes>"
      ]
     },
     "metadata": {
      "needs_background": "light"
     },
     "output_type": "display_data"
    }
   ],
   "source": [
    "import matplotlib.pyplot as plt\n",
    "import numpy as np\n",
    "import os\n",
    "import collections\n",
    "\n",
    "Dic_score = {}\n",
    "\n",
    "for i in reviews_train.filenames:\n",
    "    filenames = os.path.basename(i)\n",
    "    temp = filenames.split('_')\n",
    "    score = (temp[1].split(\".\"))[0]\n",
    "   \n",
    "    if score not in Dic_score:\n",
    "        Dic_score[score] =1\n",
    "    else:\n",
    "        Dic_score[score] +=1\n",
    "\n",
    "plt.figure(figsize = (10,8))\n",
    "plt.bar(Dic_score.keys(), Dic_score.values(), color='g')\n",
    "plt.title('Phân bố số điểm bình luận của bộ dữ liệu', size=22)\n",
    "plt.xlabel('Điểm bình luận')\n",
    "plt.ylabel('Số lượng bình luận')     \n",
    "plt.show()"
   ]
  },
  {
   "cell_type": "markdown",
   "metadata": {},
   "source": [
    "### Ta tách text_train (data) và y_train (nhãn) ra khỏi reviews_train\n",
    "### Nhãn được thể hiện dưới dạng giá trị 0 và 1 , Trong đó\n",
    "### 1 : Positive\n",
    "### 0 : Negative"
   ]
  },
  {
   "cell_type": "code",
   "execution_count": null,
   "metadata": {},
   "outputs": [
    {
     "name": "stdout",
     "output_type": "stream",
     "text": [
      "Kiểu dữ liệu của text_train: <class 'list'>\n",
      "Số lượng dữ liệu của text_train: 25000\n"
     ]
    },
    {
     "data": {
      "text/plain": [
       "array([1, 0, 1, ..., 0, 0, 0])"
      ]
     },
     "execution_count": 20,
     "metadata": {},
     "output_type": "execute_result"
    }
   ],
   "source": [
    "# load_files returns a bunch, containing training texts and training labels\n",
    "text_train, y_train = reviews_train.data, reviews_train.target\n",
    "print(\"Kiểu dữ liệu của text_train: {}\".format(type(text_train)))\n",
    "print(\"Số lượng dữ liệu của text_train: {}\".format(len(text_train)))\n",
    "reviews_train.target"
   ]
  },
  {
   "cell_type": "markdown",
   "metadata": {},
   "source": [
    "### Đọc 5 bình luận và nhãn"
   ]
  },
  {
   "cell_type": "code",
   "execution_count": 89,
   "metadata": {},
   "outputs": [
    {
     "name": "stdout",
     "output_type": "stream",
     "text": [
      "b\"Zero Day leads you to think, even re-think why two boys/young men would do what they did - commit mutual suicide via slaughtering their classmates. It captures what must be beyond a bizarre mode of being for two humans who have decided to withdraw from common civility in order to define their own/mutual world via coupled destruction.<br /><br />It is not a perfect movie but given what money/time the filmmaker and actors had - it is a remarkable product. In terms of explaining the motives and actions of the two young suicide/murderers it is better than 'Elephant' - in terms of being a film that gets under our 'rationalistic' skin it is a far, far better film than almost anything you are likely to see. <br /><br />Flawed but honest with a terrible honesty.\"\n",
      "--- Label: Positive---\n",
      "b'Words can\\'t describe how bad this movie is. I can\\'t explain it by writing only. You have too see it for yourself to get at grip of how horrible a movie really can be. Not that I recommend you to do that. There are so many clich\\xc3\\xa9s, mistakes (and all other negative things you can imagine) here that will just make you cry. To start with the technical first, there are a LOT of mistakes regarding the airplane. I won\\'t list them here, but just mention the coloring of the plane. They didn\\'t even manage to show an airliner in the colors of a fictional airline, but instead used a 747 painted in the original Boeing livery. Very bad. The plot is stupid and has been done many times before, only much, much better. There are so many ridiculous moments here that i lost count of it really early. Also, I was on the bad guys\\' side all the time in the movie, because the good guys were so stupid. \"Executive Decision\" should without a doubt be you\\'re choice over this one, even the \"Turbulence\"-movies are better. In fact, every other movie in the world is better than this one.'\n",
      "--- Label: Negative---\n",
      "b'Everyone plays their part pretty well in this \"little nice movie\". Belushi gets the chance to live part of his life differently, but ends up realizing that what he had was going to be just as good or maybe even better. The movie shows us that we ought to take advantage of the opportunities we have, not the ones we do not or cannot have. If U can get this movie on video for around $10, it\\xc2\\xb4d be an investment!'\n",
      "--- Label: Positive---\n",
      "b'There are a lot of highly talented filmmakers/actors in Germany now. None of them are associated with this \"movie\".<br /><br />Why in the world do producers actually invest money in something like this this? You could have made 10 good films with the budget of this garbage! It\\'s not entertaining to have seven grown men running around as dwarfs, pretending to be funny. What IS funny though is that the film\\'s producer (who happens to be the oldest guy of the bunch) is playing the YOUNGEST dwarf.<br /><br />The film is filled with moments that scream for captions saying \"You\\'re supposed to laugh now!\". It\\'s hard to believe that this crap\\'s supposed to be a comedy.<br /><br />Many people actually stood up and left the cinema 30 minutes into the movie. I should have done the same instead of wasting my time...<br /><br />Pain!'\n",
      "--- Label: Negative---\n",
      "b'I\\'ve just had the evidence that confirmed my suspicions. A bunch of kids, 14 to 22 put on the DVD of \"Titanic\" on a fantastic state of the art mega screen home entertainment type deal. Only two of them had actually seen it before. But they all had seen the moment of Kate, Leo and Celine Dion so many times that most of them felt they had seen the whole movie. Shortly after the epic started, they started to get restless, some of them left asking the others -- \"call us when the iceberg appears\" Over an hour and a half into the movie, only the two girls who had seen the movie before, were still there. They started shouting: iceberg, iceberg. A stampede followed, they all came back to see the sinking of the Titanic. They sat open mouthed, emitting Ohs and far outs. So, just like I thought when the movie first burst into the scene. What is this? One and a half hours waiting for the bloody thing to sink but what about the rest of the of it. Dr. Zivagho, for instance, had a similar running time, but think how much takes place in that film within the same period of time. In \"Titanic\" Leo teaches Kate how to spit. Look at the faces and hands of the, supposedly, creme de la creme in the first class dining room of the ship. Look at the historical details, if you can find them. The storyline is so thin that they have to introduce guns and shootings in a ship that is about to sink. The real sinking here is of film standards. All the efforts are focus on special effects and opening week ends. The film went on to become the highest grossing movie of all time so, what do I know?'\n",
      "--- Label: Negative---\n"
     ]
    }
   ],
   "source": [
    "label = ['Negative','Positive']\n",
    "for i in range(0,5):\n",
    "    print(text_train[i])\n",
    "    print(\"--- Label: \" + label[y_train[i]] + \"---\")"
   ]
  },
  {
   "cell_type": "markdown",
   "metadata": {},
   "source": [
    "### Có thể thấy rằng text_train là một danh sách có độ dài 25.000, trong đó mỗi mục nhập là một chuỗi chứa đánh giá. Ta cũng có thể thấy rằng bài đánh giá có chứa một số ngắt ký hiệu ngắt dòng trong HTML (tag < br />). \n",
    "### Mặc dù những điều này không có tác động lớn đến các mô hình học máy , nhưng tốt hơn hết là nên làm sạch dữ liệu và xóa định dạng này trước khi tiến hành:"
   ]
  },
  {
   "cell_type": "code",
   "execution_count": null,
   "metadata": {},
   "outputs": [
    {
     "name": "stdout",
     "output_type": "stream",
     "text": [
      "b\"Zero Day leads you to think, even re-think why two boys/young men would do what they did - commit mutual suicide via slaughtering their classmates. It captures what must be beyond a bizarre mode of being for two humans who have decided to withdraw from common civility in order to define their own/mutual world via coupled destruction.  It is not a perfect movie but given what money/time the filmmaker and actors had - it is a remarkable product. In terms of explaining the motives and actions of the two young suicide/murderers it is better than 'Elephant' - in terms of being a film that gets under our 'rationalistic' skin it is a far, far better film than almost anything you are likely to see.   Flawed but honest with a terrible honesty.\"\n"
     ]
    }
   ],
   "source": [
    "text_train = [doc.replace(b\"<br />\", b\" \") for doc in text_train]\n",
    "print(text_train[0])\n"
   ]
  },
  {
   "cell_type": "markdown",
   "metadata": {},
   "source": [
    "### Tập dữ liệu thu thập có số lượng bình luận tiêu cực và tích cực bằng nhau"
   ]
  },
  {
   "cell_type": "code",
   "execution_count": null,
   "metadata": {},
   "outputs": [
    {
     "name": "stdout",
     "output_type": "stream",
     "text": [
      "Samples per class (test): [12500 12500]\n"
     ]
    },
    {
     "data": {
      "image/png": "[encoded data removed]",
      "text/plain": [
       "<Figure size 432x288 with 1 Axes>"
      ]
     },
     "metadata": {
      "needs_background": "light"
     },
     "output_type": "display_data"
    }
   ],
   "source": [
    "import collections\n",
    "print(\"Samples per class (test): {}\".format(np.bincount(y_train)))\n",
    "\n",
    "count = collections.Counter(y_train)\n",
    "x = np.array([\"Positive\", \"Negative\"])\n",
    "y = np.array([count[1], count[0]])\n",
    "\n",
    "barlist = plt.bar(x,y)\n",
    "barlist[0].set_color('g')\n",
    "barlist[1].set_color('r')\n",
    "plt.show()"
   ]
  },
  {
   "cell_type": "markdown",
   "metadata": {},
   "source": [
    "### Ta làm tương tự với tập dữ liệu test"
   ]
  },
  {
   "cell_type": "code",
   "execution_count": null,
   "metadata": {},
   "outputs": [
    {
     "name": "stdout",
     "output_type": "stream",
     "text": [
      "Number of documents in test data: 25000\n",
      "Samples per class (test): [12500 12500]\n"
     ]
    }
   ],
   "source": [
    "from sklearn.datasets import load_files\n",
    "import numpy as np\n",
    "reviews_test = load_files(\"aclImdb_v2/aclImdb/test/\")\n",
    "text_test, y_test = reviews_test.data, reviews_test.target\n",
    "print(\"Number of documents in test data: {}\".format(len(text_test)))\n",
    "text_test = [doc.replace(b\"<br />\", b\" \") for doc in text_test]"
   ]
  }
 ],
 "metadata": {
  "kernelspec": {
   "display_name": "Python 3.10.2 64-bit",
   "language": "python",
   "name": "python3"
  },
  "language_info": {
   "codemirror_mode": {
    "name": "ipython",
    "version": 3
   },
   "file_extension": ".py",
   "mimetype": "text/x-python",
   "name": "python",
   "nbconvert_exporter": "python",
   "pygments_lexer": "ipython3",
   "version": "3.10.2"
  },
  "orig_nbformat": 4,
  "vscode": {
   "interpreter": {
    "hash": "97b4c6d193500169a146492ad8b12b4ad647512ce8e80ec3905710ee6f77367e"
   }
  }
 },
 "nbformat": 4,
 "nbformat_minor": 2
}
