{
 "cells": [
  {
   "cell_type": "code",
   "execution_count": 1,
   "metadata": {},
   "outputs": [],
   "source": [
    "str = \"After the success of Die Hard and it's sequels it's no surprise really that in the 1990s, a glut of 'Die Hard on a .....' movies cashed in on the wrong guy, wrong place, wrong time concept. That is what they did with Cliffhanger, Die Hard on a mountain just in time to rescue Sly 'Stop or My Mom Will Shoot' Stallone's career.<br /><br />Cliffhanger is one big nit-pickers dream, especially to those who are expert at mountain climbing, base-jumping, aviation, facial expressions, acting skills. All in all it's full of excuses to dismiss the film as one overblown pile of junk. Stallone even managed to get out-acted by a horse! However, if you an forget all the nonsense, it's actually a very lovable and undeniably entertaining romp that delivers as plenty of thrills, and unintentionally, plenty of laughs.<br /><br />You've got to love John Lithgows sneery evilness, his tick every box band of baddies, and best of all, the permanently harassed and hapless 'turncoat' agent, Rex Linn as Travers.<br /><br />He may of been Henry in 'Portrait of a Serial Killer' but Michael Rooker is noteworthy for a cringe-worthy performance as Hal, he insists on constantly shrieking in painful disbelief at his captors 'that man never hurt anybody' And whilst he surely can't be, it really does look like Ralph Waite's Frank character is grinning as the girl plummets to her death.<br /><br />Mention too must go to former 'London's Burning' actor Craig Fairbrass as the Brit bad guy, who comes a cropper whilst using Hal as a Human Football, yes, you can't help enjoy that bit, Hal needed a good kicking.<br /><br />So forget your better judgement, who cares if 'that could never happen', lower your acting expectations, turn up the volume and enjoy! And if you're looking for Qaulen, he's the one wearing the helicopter.\"\n"
   ]
  },
  {
   "cell_type": "code",
   "execution_count": 2,
   "metadata": {},
   "outputs": [],
   "source": [
    "import re\n",
    "def clean(text):\n",
    "    cleaned = re.compile(r'<.*?>')\n",
    "    return re.sub(cleaned,'',text)"
   ]
  },
  {
   "cell_type": "code",
   "execution_count": 3,
   "metadata": {},
   "outputs": [],
   "source": [
    "def is_special(text):\n",
    "    rem = ''\n",
    "    for i in text:\n",
    "        if i.isalnum():\n",
    "            rem = rem + i\n",
    "        else:\n",
    "            rem = rem + ' '\n",
    "    return rem"
   ]
  },
  {
   "cell_type": "code",
   "execution_count": 4,
   "metadata": {},
   "outputs": [],
   "source": [
    "def to_lower(text):\n",
    "    return text.lower()"
   ]
  },
  {
   "cell_type": "code",
   "execution_count": 5,
   "metadata": {},
   "outputs": [
    {
     "name": "stdout",
     "output_type": "stream",
     "text": [
      "['after the success of die hard and it s sequels it s no surprise really that in the 1990s  a glut of  die hard on a        movies cashed in on the wrong guy  wrong place  wrong time concept  that is what they did with cliffhanger  die hard on a mountain just in time to rescue sly  stop or my mom will shoot  stallone s career cliffhanger is one big nit pickers dream  especially to those who are expert at mountain climbing  base jumping  aviation  facial expressions  acting skills  all in all it s full of excuses to dismiss the film as one overblown pile of junk  stallone even managed to get out acted by a horse  however  if you an forget all the nonsense  it s actually a very lovable and undeniably entertaining romp that delivers as plenty of thrills  and unintentionally  plenty of laughs you ve got to love john lithgows sneery evilness  his tick every box band of baddies  and best of all  the permanently harassed and hapless  turncoat  agent  rex linn as travers he may of been henry in  portrait of a serial killer  but michael rooker is noteworthy for a cringe worthy performance as hal  he insists on constantly shrieking in painful disbelief at his captors  that man never hurt anybody  and whilst he surely can t be  it really does look like ralph waite s frank character is grinning as the girl plummets to her death mention too must go to former  london s burning  actor craig fairbrass as the brit bad guy  who comes a cropper whilst using hal as a human football  yes  you can t help enjoy that bit  hal needed a good kicking so forget your better judgement  who cares if  that could never happen   lower your acting expectations  turn up the volume and enjoy  and if you re looking for qaulen  he s the one wearing the helicopter ']\n"
     ]
    }
   ],
   "source": [
    "f1 = clean(str)\n",
    "f2 = is_special(f1)\n",
    "f3 = to_lower(f2)\n",
    "\n",
    "\n",
    "array = []\n",
    "\n",
    "array.append(f3)\n",
    "\n",
    "print(array)"
   ]
  },
  {
   "cell_type": "code",
   "execution_count": 6,
   "metadata": {},
   "outputs": [
    {
     "data": {
      "text/html": [
       "<div>\n",
       "<style scoped>\n",
       "    .dataframe tbody tr th:only-of-type {\n",
       "        vertical-align: middle;\n",
       "    }\n",
       "\n",
       "    .dataframe tbody tr th {\n",
       "        vertical-align: top;\n",
       "    }\n",
       "\n",
       "    .dataframe thead th {\n",
       "        text-align: right;\n",
       "    }\n",
       "</style>\n",
       "<table border=\"1\" class=\"dataframe\">\n",
       "  <thead>\n",
       "    <tr style=\"text-align: right;\">\n",
       "      <th></th>\n",
       "      <th>1990s</th>\n",
       "      <th>acted</th>\n",
       "      <th>acting</th>\n",
       "      <th>actor</th>\n",
       "      <th>actually</th>\n",
       "      <th>agent</th>\n",
       "      <th>anybody</th>\n",
       "      <th>aviation</th>\n",
       "      <th>bad</th>\n",
       "      <th>baddies</th>\n",
       "      <th>...</th>\n",
       "      <th>unintentionally</th>\n",
       "      <th>using</th>\n",
       "      <th>ve</th>\n",
       "      <th>volume</th>\n",
       "      <th>waite</th>\n",
       "      <th>wearing</th>\n",
       "      <th>whilst</th>\n",
       "      <th>worthy</th>\n",
       "      <th>wrong</th>\n",
       "      <th>yes</th>\n",
       "    </tr>\n",
       "  </thead>\n",
       "  <tbody>\n",
       "    <tr>\n",
       "      <th>0</th>\n",
       "      <td>1</td>\n",
       "      <td>1</td>\n",
       "      <td>2</td>\n",
       "      <td>1</td>\n",
       "      <td>1</td>\n",
       "      <td>1</td>\n",
       "      <td>1</td>\n",
       "      <td>1</td>\n",
       "      <td>1</td>\n",
       "      <td>1</td>\n",
       "      <td>...</td>\n",
       "      <td>1</td>\n",
       "      <td>1</td>\n",
       "      <td>1</td>\n",
       "      <td>1</td>\n",
       "      <td>1</td>\n",
       "      <td>1</td>\n",
       "      <td>2</td>\n",
       "      <td>1</td>\n",
       "      <td>3</td>\n",
       "      <td>1</td>\n",
       "    </tr>\n",
       "  </tbody>\n",
       "</table>\n",
       "<p>1 rows × 146 columns</p>\n",
       "</div>"
      ],
      "text/plain": [
       "   1990s  acted  acting  actor  actually  agent  anybody  aviation  bad  \\\n",
       "0      1      1       2      1         1      1        1         1    1   \n",
       "\n",
       "   baddies  ...  unintentionally  using  ve  volume  waite  wearing  whilst  \\\n",
       "0        1  ...                1      1   1       1      1        1       2   \n",
       "\n",
       "   worthy  wrong  yes  \n",
       "0       1      3    1  \n",
       "\n",
       "[1 rows x 146 columns]"
      ]
     },
     "execution_count": 6,
     "metadata": {},
     "output_type": "execute_result"
    }
   ],
   "source": [
    "from sklearn.feature_extraction.text import CountVectorizer\n",
    "import pandas as pd\n",
    "\n",
    "count_vectorizer = CountVectorizer(stop_words='english', \n",
    "                                   max_features=1000)\n",
    "count_vectorized = count_vectorizer.fit_transform(array)\n",
    "\n",
    "count_vectorized = pd.DataFrame(count_vectorized.todense(), \n",
    "                                columns=count_vectorizer.get_feature_names_out())\n",
    "\n",
    "count_vectorized.head()"
   ]
  },
  {
   "cell_type": "code",
   "execution_count": 9,
   "metadata": {},
   "outputs": [],
   "source": [
    "\n",
    "common_word_in_rows = []\n",
    "for i, row in count_vectorized.iterrows():\n",
    "    word_counts = {k: v for k, v in row.sort_values(ascending=False)[:6].items()}\n",
    "    common_word_in_rows.append(word_counts)"
   ]
  },
  {
   "cell_type": "code",
   "execution_count": 11,
   "metadata": {},
   "outputs": [
    {
     "name": "stdout",
     "output_type": "stream",
     "text": [
      "{'hal': 3, 'wrong': 3, 'die': 3, 'hard': 3, 'cliffhanger': 2, 'whilst': 2}\n"
     ]
    }
   ],
   "source": [
    "for i in common_word_in_rows:\n",
    "    print(i)"
   ]
  }
 ],
 "metadata": {
  "kernelspec": {
   "display_name": "Python 3",
   "language": "python",
   "name": "python3"
  },
  "language_info": {
   "codemirror_mode": {
    "name": "ipython",
    "version": 3
   },
   "file_extension": ".py",
   "mimetype": "text/x-python",
   "name": "python",
   "nbconvert_exporter": "python",
   "pygments_lexer": "ipython3",
   "version": "3.10.2"
  },
  "orig_nbformat": 4,
  "vscode": {
   "interpreter": {
    "hash": "97b4c6d193500169a146492ad8b12b4ad647512ce8e80ec3905710ee6f77367e"
   }
  }
 },
 "nbformat": 4,
 "nbformat_minor": 2
}
