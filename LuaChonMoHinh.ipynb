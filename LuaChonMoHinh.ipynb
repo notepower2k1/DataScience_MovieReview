{
 "cells": [
  {
   "cell_type": "markdown",
   "metadata": {},
   "source": [
    "# Lựa chọn mô hình cho bài toán\n",
    "### Mục tiêu của bài toán như sau \n",
    "###   *B1 : Đưa ra một đánh giá*\n",
    "###   *B2 : Đánh giá nội dung là tích cực hay tiêu cực rồi gán nhãn “positive” or “negative” cho chúng*\n",
    "### Ta có thể thấy đây là một nhiệm vụ phân loại nhị phân tiêu chuẩn.\n",
    "\n",
    "![alt text](./images/th2.jpeg \"Title\")\n"
   ]
  },
  {
   "cell_type": "markdown",
   "metadata": {},
   "source": [
    "### Tuy nhiên, dữ liệu văn bản không ở định dạng mà mô hình máy học có thể xử lý. \n",
    "### Vậy nên ta cần xử lý ***ngôn ngữ tự nhiên (Natural Language Processing - NLP)***\n",
    "### <font color='red'>  **=> Cần chuyển đổi biểu diễn chuỗi của văn bản thành biểu diễn số**</font>\n",
    "\n",
    "### Một trong những cách đơn giản nhưng hiệu quả và thường được sử dụng để xử lý ngôn ngữ tự nhiên là sử dụng biểu diễn túi từ (Bag of Words) \n",
    "***\n",
    "### <font color=\"yellow\">Nguyên lý</font>: Bất kỳ thông tin nào về thứ tự hoặc cấu trúc của các từ trong câu đều bị loại bỏ, chỉ quan tâm đến việc các từ đã biết có xuất hiện trong tài liệu hay không, chứ không phải ở vị trí nào trong tài liệu.\n",
    "***"
   ]
  },
  {
   "cell_type": "markdown",
   "metadata": {},
   "source": [
    "\n",
    "### Tính toán biểu diễn túi từ cho một kho tài liệu bao các ba bước sau:\n",
    "![alt text](./images/Picture.png \"Title\")"
   ]
  },
  {
   "cell_type": "markdown",
   "metadata": {},
   "source": [
    "### Ví dụ Áp dụng túi từ (Bag-of-Words)"
   ]
  },
  {
   "cell_type": "code",
   "execution_count": 1,
   "metadata": {},
   "outputs": [],
   "source": [
    "bards_words =[\"The fool doth think he is wise,\",\n",
    " \"but the wise man knows himself to be a fool\"]\n",
    "from sklearn.feature_extraction.text import CountVectorizer\n",
    "vect = CountVectorizer()"
   ]
  },
  {
   "cell_type": "code",
   "execution_count": 3,
   "metadata": {},
   "outputs": [
    {
     "name": "stdout",
     "output_type": "stream",
     "text": [
      "Vocabulary size: 13\n",
      "Vocabulary content:\n",
      " ['be', 'but', 'doth', 'fool', 'he', 'himself', 'is', 'knows', 'man', 'the', 'think', 'to', 'wise']\n"
     ]
    }
   ],
   "source": [
    "vect.fit(bards_words)\n",
    "print(\"Vocabulary size: {}\".format(len(vect.vocabulary_)))\n",
    "print(\"Vocabulary content:\\n {}\".format(sorted(vect.vocabulary_)))"
   ]
  },
  {
   "cell_type": "markdown",
   "metadata": {},
   "source": [
    "### Để tạo biểu diễn túi ***(bag-of-words representation)*** từ cho dữ liệu huấn luyện, gọi phương thức **transform:**"
   ]
  },
  {
   "cell_type": "code",
   "execution_count": 4,
   "metadata": {},
   "outputs": [
    {
     "name": "stdout",
     "output_type": "stream",
     "text": [
      "bag_of_words: <2x13 sparse matrix of type '<class 'numpy.int64'>'\n",
      "\twith 16 stored elements in Compressed Sparse Row format>\n"
     ]
    }
   ],
   "source": [
    "bag_of_words = vect.transform(bards_words)\n",
    "print(\"bag_of_words: {}\".format(repr(bag_of_words)))"
   ]
  },
  {
   "cell_type": "code",
   "execution_count": 21,
   "metadata": {},
   "outputs": [
    {
     "name": "stdout",
     "output_type": "stream",
     "text": [
      "Line 0 : The fool doth think he is wise,\n",
      "Line 1 : but the wise man knows himself to be a fool\n",
      "[[0 0 1 1 1 0 1 0 0 1 1 0 1]\n",
      " [1 1 0 1 0 1 0 1 1 1 0 1 1]]\n"
     ]
    }
   ],
   "source": [
    "index = 0\n",
    "for i in bards_words:\n",
    "    print(\"Line {} : {}\".format(index,i))\n",
    "    index = index + 1\n",
    "print(bag_of_words.toarray())"
   ]
  },
  {
   "cell_type": "markdown",
   "metadata": {},
   "source": [
    "#### Chuỗi đầu tiên ***\"The fool doth think he is wise\"*** được biểu diễn ở hàng đầu tiên và nó ***không chứa từ*** đầu tiên ***\"be\"*** trong Vocabulary content nên có giá trị ***0*** . Nó cũng ***không chứa*** từ thứ hai ***\"but\"*** nên cũng có giá trị ***0***. Nó ***chứa*** từ thứ ba, ***\"doth\"*** nên có giá trị ***1*** , v.v. \n",
    "#### Nhìn vào cả hai hàng, chúng ta có thể thấy rằng từ thứ tư ***\"fool\"*** , từ thứ mười ***\"the\"*** và từ thứ mười ba ***\"wise\"*** xuất hiện trong cả hai chuỗi."
   ]
  },
  {
   "cell_type": "markdown",
   "metadata": {},
   "source": [
    "### Áp dụng cho bài toán ***phân tích cảm nhận của người xem phim***"
   ]
  },
  {
   "cell_type": "code",
   "execution_count": 22,
   "metadata": {},
   "outputs": [
    {
     "name": "stdout",
     "output_type": "stream",
     "text": [
      "X_train:\n",
      "<25000x74849 sparse matrix of type '<class 'numpy.int64'>'\n",
      "\twith 3445861 stored elements in Compressed Sparse Row format>\n"
     ]
    }
   ],
   "source": [
    "from sklearn.datasets import load_files\n",
    "import numpy as np\n",
    "#Load dữ liệu\n",
    "reviews_train = load_files(\"aclImdb_v2/aclImdb/train/\")\n",
    "text_train, y_train = reviews_train.data, reviews_train.target\n",
    "\n",
    "vect = CountVectorizer()\n",
    "vect.fit(text_train)\n",
    "\n",
    "X_train = vect.transform(text_train)\n",
    "print(\"X_train:\\n{}\".format(repr(X_train)))"
   ]
  },
  {
   "cell_type": "markdown",
   "metadata": {},
   "source": [
    "### Kích thước của X_train, biểu diễn túi từ của dữ liệu huấn luyện, là 25.000 × 74.849, cho biết từ vựng chứa 74.849 mục từ\n",
    "### Một cách khác để truy cập từ vựng là sử dụng phương thức ***get_feature_names_out*** của vectorizer, phương thức này trả về một danh sách trong đó mỗi mục tương ứng với một đặc trưng:"
   ]
  },
  {
   "cell_type": "code",
   "execution_count": 28,
   "metadata": {},
   "outputs": [
    {
     "name": "stdout",
     "output_type": "stream",
     "text": [
      "Number of features: 74849\n",
      "Number of features: <class 'numpy.ndarray'>\n",
      "First 20 features:\n",
      "['00' '000' '0000000000001' '00001' '00015' '000s' '001' '003830' '006'\n",
      " '007' '0079' '0080' '0083' '0093638' '00am' '00pm' '00s' '01' '01pm' '02']\n",
      "Features 20010 to 20030:\n",
      "['dratted' 'draub' 'draught' 'draughts' 'draughtswoman' 'draw' 'drawback'\n",
      " 'drawbacks' 'drawer' 'drawers' 'drawing' 'drawings' 'drawl' 'drawled'\n",
      " 'drawling' 'drawn' 'draws' 'draza' 'dre' 'drea']\n",
      "Every 2000th feature:\n",
      "['00' 'aesir' 'aquarian' 'barking' 'blustering' 'bête' 'chicanery'\n",
      " 'condensing' 'cunning' 'detox' 'draper' 'enshrined' 'favorit' 'freezer'\n",
      " 'goldman' 'hasan' 'huitieme' 'intelligible' 'kantrowitz' 'lawful' 'maars'\n",
      " 'megalunged' 'mostey' 'norrland' 'padilla' 'pincher' 'promisingly'\n",
      " 'receptionist' 'rivals' 'schnaas' 'shunning' 'sparse' 'subset'\n",
      " 'temptations' 'treatises' 'unproven' 'walkman' 'xylophonist']\n"
     ]
    }
   ],
   "source": [
    "feature_names = vect.get_feature_names_out()\n",
    "print(\"Number of features: {}\".format(len(feature_names)))\n",
    "print(\"Number of features: {}\".format(type(feature_names)))\n",
    "print(\"First 20 features:\\n{}\".format(feature_names[:20]))\n",
    "print(\"Features 20010 to 20030:\\n{}\".format(feature_names[20010:20030]))\n",
    "print(\"Every 2000th feature:\\n{}\".format(feature_names[::2000]))"
   ]
  },
  {
   "cell_type": "markdown",
   "metadata": {},
   "source": [
    "### Ta có thể thấy 10 mục đầu tiên trong ***feature_names*** đều là những con số. Tất cả những con số này xuất hiện ở đâu đó trong các bài đánh giá và do đó được trích xuất dưới dạng từ. Hầu hết những con số này không có bất kỳ ý nghĩa ngữ nghĩa.\n",
    "### Tìm kiếm xa hơn trong từ vựng, ta tìm thấy một tập hợp các từ tiếng Anh bắt đầu bằng ***“dra”***. Bạn có thể nhận thấy rằng đối với ***\"draught\",\"drawback\" và \"drawer\"*** cả dạng số ít và số nhiều đều có trong từ vựng dưới dạng các từ riêng biệt. Những từ này có ý nghĩa ngữ nghĩa liên quan rất chặt chẽ và việc coi chúng là những từ khác nhau, tương ứng với các đặc điểm khác nhau, có thể không phù hợp."
   ]
  },
  {
   "cell_type": "markdown",
   "metadata": {},
   "source": [
    "### <font color='red'>  ***Đối với dữ liệu nhiều chiều, rải rác như thế này, các mô hình tuyến tính như ***Logistic Regression*** thường hoạt động tốt nhất.*** </font>\n",
    "***\n",
    "#### ***Logistic Regression*** được áp dụng trong bài toán phân loại nhị phân (Binary classification) tức ta sẽ có hai output, hoặc có thể gọi là hai nhãn (ví dụ như 0 và 1 hoặc positive và negative).\n",
    "#### ***Logistic Regression*** thường được sử dụng để so sánh với các thuật toán phân loại khác.\n",
    "#### ***Logistic Regression*** là 1 thuật toán phân loại được dùng để dự đoán giá trị dữ liệu dựa trên các quan sát trước đó của tập dữ liệu.\n",
    "#### Một ví dụ điển hình là:\n",
    "#### Phân loại Email thường hay spam\n",
    "#### Giao dịch trực tuyến có là an toàn hay không an toàn\n",
    "#### khối u lành tính hay ác tình.\n",
    "#### Mục đích của hồi quy logistic là ước tính xác suất của các sự kiện, bao gồm xác định mối quan hệ giữa các tính năng từ đó đự đoán xác suất của các kết quả, nên đối với hồi quy logistic ta sẽ có:\n",
    "#### Input: dữ liệu input (ta sẽ coi có hai nhãn là 0 và 1).\n",
    "#### Output : Xác suất dữ liệu input rơi vào nhãn 0 hoặc nhãn 1.\n",
    "![alt text](./images/logistic-300x262-1.jpg \"Title\")\n",
    "***"
   ]
  }
 ],
 "metadata": {
  "kernelspec": {
   "display_name": "Python 3.10.2 64-bit",
   "language": "python",
   "name": "python3"
  },
  "language_info": {
   "codemirror_mode": {
    "name": "ipython",
    "version": 3
   },
   "file_extension": ".py",
   "mimetype": "text/x-python",
   "name": "python",
   "nbconvert_exporter": "python",
   "pygments_lexer": "ipython3",
   "version": "3.10.2 (tags/v3.10.2:a58ebcc, Jan 17 2022, 14:12:15) [MSC v.1929 64 bit (AMD64)]"
  },
  "orig_nbformat": 4,
  "vscode": {
   "interpreter": {
    "hash": "97b4c6d193500169a146492ad8b12b4ad647512ce8e80ec3905710ee6f77367e"
   }
  }
 },
 "nbformat": 4,
 "nbformat_minor": 2
}
